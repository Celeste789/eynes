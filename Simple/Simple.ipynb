{
 "cells": [
  {
   "cell_type": "code",
   "execution_count": 1,
   "id": "4418172e",
   "metadata": {},
   "outputs": [],
   "source": [
    "import random as rd"
   ]
  },
  {
   "cell_type": "code",
   "execution_count": 2,
   "id": "eb5e5616",
   "metadata": {},
   "outputs": [],
   "source": [
    "def simple():\n",
    "    result = []\n",
    "    for i in range(0, 10):\n",
    "        i = rd.randrange(101)\n",
    "        dicc = {\n",
    "            id(i) : i\n",
    "        }\n",
    "        result.append(dicc)\n",
    "    return result"
   ]
  },
  {
   "cell_type": "code",
   "execution_count": 3,
   "id": "e06f751b",
   "metadata": {},
   "outputs": [
    {
     "data": {
      "text/plain": [
       "[{9791840: 91},\n",
       " {9790848: 60},\n",
       " {9791168: 70},\n",
       " {9790592: 52},\n",
       " {9789984: 33},\n",
       " {9789088: 5},\n",
       " {9789888: 30},\n",
       " {9788992: 2},\n",
       " {9790112: 37},\n",
       " {9791648: 85}]"
      ]
     },
     "execution_count": 3,
     "metadata": {},
     "output_type": "execute_result"
    }
   ],
   "source": [
    "simple()"
   ]
  },
  {
   "cell_type": "code",
   "execution_count": 4,
   "id": "a60c4b52",
   "metadata": {},
   "outputs": [],
   "source": [
    "def minimo_diccionario(l):\n",
    "    minimo = l[0]\n",
    "    for i in l:\n",
    "        if i.keys() < minimo.keys():\n",
    "            minimo = i\n",
    "    return minimo"
   ]
  },
  {
   "cell_type": "code",
   "execution_count": 5,
   "id": "08d85eb4",
   "metadata": {},
   "outputs": [],
   "source": [
    "def quitar(l, i):\n",
    "    result = []\n",
    "    for j in l:\n",
    "        if j != i:\n",
    "            result.append(j)\n",
    "    return result"
   ]
  },
  {
   "cell_type": "code",
   "execution_count": 6,
   "id": "0152f015",
   "metadata": {},
   "outputs": [],
   "source": [
    "def simple2():\n",
    "    a_ordenar = simple()\n",
    "    minimo = minimo_diccionario(a_ordenar)\n",
    "    result = []\n",
    "    while a_ordenar != []:\n",
    "        result.append(minimo)\n",
    "        a_ordenar = quitar(a_ordenar, minimo)\n",
    "    print(a_ordenar[0])\n",
    "    print(a_ordenar[len(a_ordenar) - 1])\n",
    "    return result"
   ]
  },
  {
   "cell_type": "code",
   "execution_count": 7,
   "id": "71e4b863",
   "metadata": {},
   "outputs": [
    {
     "ename": "KeyboardInterrupt",
     "evalue": "",
     "output_type": "error",
     "traceback": [
      "\u001b[0;31m---------------------------------------------------------------------------\u001b[0m",
      "\u001b[0;31mKeyboardInterrupt\u001b[0m                         Traceback (most recent call last)",
      "Input \u001b[0;32mIn [7]\u001b[0m, in \u001b[0;36m<cell line: 1>\u001b[0;34m()\u001b[0m\n\u001b[0;32m----> 1\u001b[0m l \u001b[38;5;241m=\u001b[39m \u001b[43msimple2\u001b[49m\u001b[43m(\u001b[49m\u001b[43m)\u001b[49m\n\u001b[1;32m      2\u001b[0m l\n",
      "Input \u001b[0;32mIn [6]\u001b[0m, in \u001b[0;36msimple2\u001b[0;34m()\u001b[0m\n\u001b[1;32m      4\u001b[0m result \u001b[38;5;241m=\u001b[39m []\n\u001b[1;32m      5\u001b[0m \u001b[38;5;28;01mwhile\u001b[39;00m a_ordenar \u001b[38;5;241m!=\u001b[39m []:\n\u001b[0;32m----> 6\u001b[0m     \u001b[43mresult\u001b[49m\u001b[38;5;241;43m.\u001b[39;49m\u001b[43mappend\u001b[49m\u001b[43m(\u001b[49m\u001b[43mminimo\u001b[49m\u001b[43m)\u001b[49m\n\u001b[1;32m      7\u001b[0m     a_ordenar \u001b[38;5;241m=\u001b[39m quitar(a_ordenar, minimo)\n\u001b[1;32m      8\u001b[0m \u001b[38;5;28mprint\u001b[39m(a_ordenar[\u001b[38;5;241m0\u001b[39m])\n",
      "\u001b[0;31mKeyboardInterrupt\u001b[0m: "
     ]
    }
   ],
   "source": [
    "l = simple2()\n",
    "l"
   ]
  }
 ],
 "metadata": {
  "kernelspec": {
   "display_name": "Python 3 (ipykernel)",
   "language": "python",
   "name": "python3"
  },
  "language_info": {
   "codemirror_mode": {
    "name": "ipython",
    "version": 3
   },
   "file_extension": ".py",
   "mimetype": "text/x-python",
   "name": "python",
   "nbconvert_exporter": "python",
   "pygments_lexer": "ipython3",
   "version": "3.8.10"
  }
 },
 "nbformat": 4,
 "nbformat_minor": 5
}

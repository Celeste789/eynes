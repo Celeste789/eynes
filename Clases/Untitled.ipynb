{
 "cells": [
  {
   "cell_type": "code",
   "execution_count": 8,
   "id": "a467a349",
   "metadata": {},
   "outputs": [],
   "source": [
    "import numpy as np"
   ]
  },
  {
   "cell_type": "code",
   "execution_count": 58,
   "id": "3b16d290",
   "metadata": {},
   "outputs": [],
   "source": [
    "class Circulo:\n",
    "    def __init__(self, radio):\n",
    "        self.radio = radio\n",
    "        if radio <= 0:\n",
    "            raise ValueError (\"El radio no puede ser menor o igual a 0\")\n",
    "    \n",
    "    def __str__(self):\n",
    "        return \"Hola! Soy un círculo\"\n",
    "\n",
    "    def perimetro(self):\n",
    "        return np.pi * self.radio\n",
    "    \n",
    "    def area(self):\n",
    "        return np.pi * self.radio ** 2 \n",
    "    \n",
    "    def multiplicacion(self, n):\n",
    "        if n <= 0:\n",
    "            raise ValueError(\"No se puede multiplicar por números menores o iguales a 0\")\n",
    "        else:\n",
    "            return self.radio * n"
   ]
  },
  {
   "cell_type": "code",
   "execution_count": 26,
   "id": "edfe8190",
   "metadata": {},
   "outputs": [],
   "source": [
    "circulo = Circulo(1)"
   ]
  },
  {
   "cell_type": "code",
   "execution_count": 27,
   "id": "6ea3d6ba",
   "metadata": {},
   "outputs": [
    {
     "name": "stdout",
     "output_type": "stream",
     "text": [
      "Hola! Soy un círculo\n"
     ]
    }
   ],
   "source": [
    "print(circulo)"
   ]
  },
  {
   "cell_type": "code",
   "execution_count": 28,
   "id": "d2347504",
   "metadata": {},
   "outputs": [
    {
     "data": {
      "text/plain": [
       "3.141592653589793"
      ]
     },
     "execution_count": 28,
     "metadata": {},
     "output_type": "execute_result"
    }
   ],
   "source": [
    "circulo.perimetro()"
   ]
  },
  {
   "cell_type": "code",
   "execution_count": 29,
   "id": "b1e072cd",
   "metadata": {},
   "outputs": [
    {
     "data": {
      "text/plain": [
       "3.141592653589793"
      ]
     },
     "execution_count": 29,
     "metadata": {},
     "output_type": "execute_result"
    }
   ],
   "source": [
    "circulo.area()"
   ]
  },
  {
   "cell_type": "code",
   "execution_count": 43,
   "id": "0d7fff32",
   "metadata": {},
   "outputs": [
    {
     "ename": "ValueError",
     "evalue": "El radio no puede ser menor o igual a 0",
     "output_type": "error",
     "traceback": [
      "\u001b[0;31m---------------------------------------------------------------------------\u001b[0m",
      "\u001b[0;31mValueError\u001b[0m                                Traceback (most recent call last)",
      "Input \u001b[0;32mIn [43]\u001b[0m, in \u001b[0;36m<cell line: 1>\u001b[0;34m()\u001b[0m\n\u001b[0;32m----> 1\u001b[0m circulo_2 \u001b[38;5;241m=\u001b[39m \u001b[43mCirculo\u001b[49m\u001b[43m(\u001b[49m\u001b[38;5;241;43m-\u001b[39;49m\u001b[38;5;241;43m1\u001b[39;49m\u001b[43m)\u001b[49m\n",
      "Input \u001b[0;32mIn [40]\u001b[0m, in \u001b[0;36mCirculo.__init__\u001b[0;34m(self, radio)\u001b[0m\n\u001b[1;32m      3\u001b[0m \u001b[38;5;28mself\u001b[39m\u001b[38;5;241m.\u001b[39mradio \u001b[38;5;241m=\u001b[39m radio\n\u001b[1;32m      4\u001b[0m \u001b[38;5;28;01mif\u001b[39;00m radio \u001b[38;5;241m<\u001b[39m\u001b[38;5;241m=\u001b[39m \u001b[38;5;241m0\u001b[39m:\n\u001b[0;32m----> 5\u001b[0m     \u001b[38;5;28;01mraise\u001b[39;00m \u001b[38;5;167;01mValueError\u001b[39;00m (\u001b[38;5;124m\"\u001b[39m\u001b[38;5;124mEl radio no puede ser menor o igual a 0\u001b[39m\u001b[38;5;124m\"\u001b[39m)\n",
      "\u001b[0;31mValueError\u001b[0m: El radio no puede ser menor o igual a 0"
     ]
    }
   ],
   "source": [
    "circulo_2 = Circulo(-1)"
   ]
  },
  {
   "cell_type": "code",
   "execution_count": 44,
   "id": "fd9e12a6",
   "metadata": {},
   "outputs": [
    {
     "ename": "ValueError",
     "evalue": "El radio no puede ser menor o igual a 0",
     "output_type": "error",
     "traceback": [
      "\u001b[0;31m---------------------------------------------------------------------------\u001b[0m",
      "\u001b[0;31mValueError\u001b[0m                                Traceback (most recent call last)",
      "Input \u001b[0;32mIn [44]\u001b[0m, in \u001b[0;36m<cell line: 1>\u001b[0;34m()\u001b[0m\n\u001b[0;32m----> 1\u001b[0m circulo_3 \u001b[38;5;241m=\u001b[39m \u001b[43mCirculo\u001b[49m\u001b[43m(\u001b[49m\u001b[38;5;241;43m0\u001b[39;49m\u001b[43m)\u001b[49m\n",
      "Input \u001b[0;32mIn [40]\u001b[0m, in \u001b[0;36mCirculo.__init__\u001b[0;34m(self, radio)\u001b[0m\n\u001b[1;32m      3\u001b[0m \u001b[38;5;28mself\u001b[39m\u001b[38;5;241m.\u001b[39mradio \u001b[38;5;241m=\u001b[39m radio\n\u001b[1;32m      4\u001b[0m \u001b[38;5;28;01mif\u001b[39;00m radio \u001b[38;5;241m<\u001b[39m\u001b[38;5;241m=\u001b[39m \u001b[38;5;241m0\u001b[39m:\n\u001b[0;32m----> 5\u001b[0m     \u001b[38;5;28;01mraise\u001b[39;00m \u001b[38;5;167;01mValueError\u001b[39;00m (\u001b[38;5;124m\"\u001b[39m\u001b[38;5;124mEl radio no puede ser menor o igual a 0\u001b[39m\u001b[38;5;124m\"\u001b[39m)\n",
      "\u001b[0;31mValueError\u001b[0m: El radio no puede ser menor o igual a 0"
     ]
    }
   ],
   "source": [
    "circulo_3 = Circulo(0)"
   ]
  },
  {
   "cell_type": "code",
   "execution_count": 54,
   "id": "c20156a3",
   "metadata": {},
   "outputs": [],
   "source": [
    "a = -1\n",
    "circulo.radio = a"
   ]
  },
  {
   "cell_type": "code",
   "execution_count": null,
   "id": "c2ae8c47",
   "metadata": {},
   "outputs": [],
   "source": []
  }
 ],
 "metadata": {
  "kernelspec": {
   "display_name": "Python 3 (ipykernel)",
   "language": "python",
   "name": "python3"
  },
  "language_info": {
   "codemirror_mode": {
    "name": "ipython",
    "version": 3
   },
   "file_extension": ".py",
   "mimetype": "text/x-python",
   "name": "python",
   "nbconvert_exporter": "python",
   "pygments_lexer": "ipython3",
   "version": "3.8.10"
  }
 },
 "nbformat": 4,
 "nbformat_minor": 5
}

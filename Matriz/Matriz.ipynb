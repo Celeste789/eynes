{
 "cells": [
  {
   "cell_type": "code",
   "execution_count": 63,
   "id": "595626b0",
   "metadata": {},
   "outputs": [],
   "source": [
    "import random as rd\n",
    "import numpy as np"
   ]
  },
  {
   "cell_type": "code",
   "execution_count": 81,
   "id": "26f070bc",
   "metadata": {},
   "outputs": [],
   "source": [
    "def cuatro_consecutivos(l):\n",
    "        longitud = 0\n",
    "        i = 0\n",
    "        comienzo = 0\n",
    "        final = i\n",
    "        while longitud < 3 and comienzo <= len(l) - 4 and i <= len(l) - 2:\n",
    "            if l[i + 1] == l[i] + 1:\n",
    "                longitud += 1\n",
    "                final = i+1\n",
    "            else:\n",
    "                comienzo += 1\n",
    "            i+=1\n",
    "        if longitud >= 3:\n",
    "            print((comienzo, final))\n",
    "            return True\n",
    "        else:\n",
    "            return False\n"
   ]
  },
  {
   "cell_type": "code",
   "execution_count": 57,
   "id": "385aaa43",
   "metadata": {},
   "outputs": [
    {
     "name": "stdout",
     "output_type": "stream",
     "text": [
      "1\n",
      "4\n"
     ]
    },
    {
     "data": {
      "text/plain": [
       "True"
      ]
     },
     "execution_count": 57,
     "metadata": {},
     "output_type": "execute_result"
    }
   ],
   "source": [
    "cuatro_consecutivos([8,2,3,4,5])"
   ]
  },
  {
   "cell_type": "code",
   "execution_count": 59,
   "id": "75e7f46a",
   "metadata": {},
   "outputs": [
    {
     "data": {
      "text/plain": [
       "False"
      ]
     },
     "execution_count": 59,
     "metadata": {},
     "output_type": "execute_result"
    }
   ],
   "source": [
    "cuatro_consecutivos([1,3,5,8,9])"
   ]
  },
  {
   "cell_type": "code",
   "execution_count": 60,
   "id": "90e8a10e",
   "metadata": {},
   "outputs": [
    {
     "name": "stdout",
     "output_type": "stream",
     "text": [
      "0\n",
      "3\n"
     ]
    },
    {
     "data": {
      "text/plain": [
       "True"
      ]
     },
     "execution_count": 60,
     "metadata": {},
     "output_type": "execute_result"
    }
   ],
   "source": [
    "cuatro_consecutivos([1,2,3,4,5])"
   ]
  },
  {
   "cell_type": "code",
   "execution_count": 61,
   "id": "fc469d6b",
   "metadata": {},
   "outputs": [
    {
     "name": "stdout",
     "output_type": "stream",
     "text": [
      "0\n",
      "3\n"
     ]
    },
    {
     "data": {
      "text/plain": [
       "True"
      ]
     },
     "execution_count": 61,
     "metadata": {},
     "output_type": "execute_result"
    }
   ],
   "source": [
    "cuatro_consecutivos([1,2,3,4,9])"
   ]
  },
  {
   "cell_type": "code",
   "execution_count": 76,
   "id": "b49564ad",
   "metadata": {},
   "outputs": [],
   "source": [
    "def matriz_test(m):\n",
    "    for i in range(0, len(m)):\n",
    "        result = cuatro_consecutivos(m[i, :])\n",
    "    for j in range(0, len(m[0])):\n",
    "        result = cuatro_consecutivos(m[:, j])\n",
    "    return result"
   ]
  },
  {
   "cell_type": "code",
   "execution_count": 77,
   "id": "586823c2",
   "metadata": {},
   "outputs": [],
   "source": [
    "m = np.array([[1,2,3,4,5],[1,1,1,1,1],[2,2,2,2,2],[3,3,3,3,3],[4,4,4,4,4]])"
   ]
  },
  {
   "cell_type": "code",
   "execution_count": 82,
   "id": "282fd1f7",
   "metadata": {},
   "outputs": [
    {
     "name": "stdout",
     "output_type": "stream",
     "text": [
      "(0, 3)\n",
      "(1, 4)\n",
      "(1, 4)\n",
      "(1, 4)\n",
      "(1, 4)\n",
      "(1, 4)\n"
     ]
    },
    {
     "data": {
      "text/plain": [
       "True"
      ]
     },
     "execution_count": 82,
     "metadata": {},
     "output_type": "execute_result"
    }
   ],
   "source": [
    "matriz_test(m)"
   ]
  },
  {
   "cell_type": "code",
   "execution_count": 92,
   "id": "20fe02d7",
   "metadata": {},
   "outputs": [],
   "source": [
    "def matriz():\n",
    "    m = np.zeros((5,5))\n",
    "    for i in range(len(m)):\n",
    "        for j in range(len(m[0])):\n",
    "            m[i][j] = rd.randrange(-100,100)\n",
    "    result = matriz_test(m)\n",
    "    return result"
   ]
  },
  {
   "cell_type": "code",
   "execution_count": 93,
   "id": "9fbcb197",
   "metadata": {},
   "outputs": [
    {
     "data": {
      "text/plain": [
       "False"
      ]
     },
     "execution_count": 93,
     "metadata": {},
     "output_type": "execute_result"
    }
   ],
   "source": [
    "matriz()"
   ]
  },
  {
   "cell_type": "code",
   "execution_count": null,
   "id": "8947e741",
   "metadata": {},
   "outputs": [],
   "source": []
  }
 ],
 "metadata": {
  "kernelspec": {
   "display_name": "Python 3 (ipykernel)",
   "language": "python",
   "name": "python3"
  },
  "language_info": {
   "codemirror_mode": {
    "name": "ipython",
    "version": 3
   },
   "file_extension": ".py",
   "mimetype": "text/x-python",
   "name": "python",
   "nbconvert_exporter": "python",
   "pygments_lexer": "ipython3",
   "version": "3.8.10"
  }
 },
 "nbformat": 4,
 "nbformat_minor": 5
}
